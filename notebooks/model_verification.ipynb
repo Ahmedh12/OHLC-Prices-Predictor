{
 "cells": [
  {
   "cell_type": "code",
   "execution_count": 1,
   "id": "12395f96-1552-4716-bfc7-06d57caac2d0",
   "metadata": {},
   "outputs": [],
   "source": [
    "import sys\n",
    "import os        \n",
    "# Add the parent directory to the Python path\n",
    "sys.path.append(os.path.abspath(os.path.join(os.getcwd(), \"..\")))"
   ]
  },
  {
   "cell_type": "code",
   "execution_count": 2,
   "id": "39cdb067-820b-467f-89d0-2a1845ba0bce",
   "metadata": {},
   "outputs": [],
   "source": [
    "from data.data_loader import get_data_loaders\n",
    "from config.utils import load_config\n",
    "from utils import *"
   ]
  },
  {
   "cell_type": "code",
   "execution_count": 11,
   "id": "87cca251-6b3c-4b19-a10c-5de8824499e4",
   "metadata": {},
   "outputs": [
    {
     "name": "stdout",
     "output_type": "stream",
     "text": [
      "Model loaded successfully.\n"
     ]
    },
    {
     "ename": "ValueError",
     "evalue": "need at least one array to concatenate",
     "output_type": "error",
     "traceback": [
      "\u001b[1;31m---------------------------------------------------------------------------\u001b[0m",
      "\u001b[1;31mValueError\u001b[0m                                Traceback (most recent call last)",
      "Cell \u001b[1;32mIn[11], line 1\u001b[0m\n\u001b[1;32m----> 1\u001b[0m test_model_plot_window(\n\u001b[0;32m      2\u001b[0m     \u001b[38;5;124m\"\u001b[39m\u001b[38;5;124mconfig_1\u001b[39m\u001b[38;5;124m\"\u001b[39m,\n\u001b[0;32m      3\u001b[0m     \u001b[38;5;124m\"\u001b[39m\u001b[38;5;124mmodel_2024-12-01_15-40-02_epoch_35_mse_0.015517535802376057.pth\u001b[39m\u001b[38;5;124m\"\u001b[39m,\n\u001b[0;32m      4\u001b[0m     \u001b[38;5;124m\"\u001b[39m\u001b[38;5;124mEGX 30 Historical Data_010318_281124_processed.csv\u001b[39m\u001b[38;5;124m\"\u001b[39m,\n\u001b[0;32m      5\u001b[0m     pred_cycle_count \u001b[38;5;241m=\u001b[39m \u001b[38;5;241m0\u001b[39m\n\u001b[0;32m      6\u001b[0m )\n",
      "File \u001b[1;32m~\\Desktop\\Uni fall 2024\\Deep Generative Models\\Project Proposal\\Stock Price Predictor\\utils\\visualizer.py:101\u001b[0m, in \u001b[0;36mtest_model_plot_window\u001b[1;34m(configuration_file, weights_file, test_data_file, pred_cycle_count)\u001b[0m\n\u001b[0;32m     97\u001b[0m \u001b[38;5;66;03m# test_dataloader, _ = get_data_loaders(f\"../data/processed/{test_data_file}\",\u001b[39;00m\n\u001b[0;32m     98\u001b[0m \u001b[38;5;66;03m#                                       batch_size=1, config_file_path=config_path)\u001b[39;00m\n\u001b[0;32m     99\u001b[0m loader \u001b[38;5;241m=\u001b[39m get_validation_dataloader(\u001b[38;5;124mf\u001b[39m\u001b[38;5;124m\"\u001b[39m\u001b[38;5;124m../data/processed/\u001b[39m\u001b[38;5;132;01m{\u001b[39;00mtest_data_file\u001b[38;5;132;01m}\u001b[39;00m\u001b[38;5;124m\"\u001b[39m,\n\u001b[0;32m    100\u001b[0m                                       batch_size\u001b[38;5;241m=\u001b[39m\u001b[38;5;241m1\u001b[39m, config_file_path\u001b[38;5;241m=\u001b[39mconfig_path)\n\u001b[1;32m--> 101\u001b[0m infer_and_plot(model,\n\u001b[0;32m    102\u001b[0m                loader,\n\u001b[0;32m    103\u001b[0m                load_config(config_path)[\u001b[38;5;124m'\u001b[39m\u001b[38;5;124mseq_len_future\u001b[39m\u001b[38;5;124m'\u001b[39m],\n\u001b[0;32m    104\u001b[0m                pred_cycle_count \u001b[38;5;241m=\u001b[39m pred_cycle_count)\n",
      "File \u001b[1;32m~\\Desktop\\Uni fall 2024\\Deep Generative Models\\Project Proposal\\Stock Price Predictor\\utils\\visualizer.py:57\u001b[0m, in \u001b[0;36minfer_and_plot\u001b[1;34m(model, test_loader, seq_len_future, num_features, plot_labels, pred_cycle_count)\u001b[0m\n\u001b[0;32m     53\u001b[0m         dates\u001b[38;5;241m.\u001b[39mappend(output_dates\u001b[38;5;241m.\u001b[39mcpu()\u001b[38;5;241m.\u001b[39mnumpy())\n\u001b[0;32m     56\u001b[0m \u001b[38;5;66;03m# Convert lists to numpy arrays\u001b[39;00m\n\u001b[1;32m---> 57\u001b[0m actual_prices \u001b[38;5;241m=\u001b[39m np\u001b[38;5;241m.\u001b[39mconcatenate(actual_prices, axis\u001b[38;5;241m=\u001b[39m\u001b[38;5;241m0\u001b[39m)\n\u001b[0;32m     58\u001b[0m predicted_prices \u001b[38;5;241m=\u001b[39m np\u001b[38;5;241m.\u001b[39mconcatenate(predicted_prices, axis\u001b[38;5;241m=\u001b[39m\u001b[38;5;241m0\u001b[39m)\n\u001b[0;32m     59\u001b[0m dates \u001b[38;5;241m=\u001b[39m np\u001b[38;5;241m.\u001b[39mconcatenate(dates, axis\u001b[38;5;241m=\u001b[39m\u001b[38;5;241m0\u001b[39m)\n",
      "\u001b[1;31mValueError\u001b[0m: need at least one array to concatenate"
     ]
    }
   ],
   "source": [
    "test_model_plot_window(\n",
    "    \"config_1\",\n",
    "    \"model_2024-12-01_15-40-02_epoch_35_mse_0.015517535802376057.pth\",\n",
    "    \"EGX 30 Historical Data_010318_281124_processed.csv\",\n",
    "    pred_cycle_count = 0\n",
    ")"
   ]
  },
  {
   "cell_type": "code",
   "execution_count": null,
   "id": "850cea33-6d87-4260-8a91-05664a9cbfe7",
   "metadata": {
    "scrolled": true
   },
   "outputs": [],
   "source": [
    "test_model_plot_window(\n",
    "    \"config_2\",\n",
    "    \"model_2024-12-01_14-10-51_epoch_34_mse_0.01576997745516045.pth\",\n",
    "    \"EGX 30 Historical Data_010318_281124_processed.csv\"\n",
    ")"
   ]
  },
  {
   "cell_type": "code",
   "execution_count": null,
   "id": "eaed1485-fbb8-4b80-8400-3e8f42f97396",
   "metadata": {
    "scrolled": true
   },
   "outputs": [],
   "source": [
    "test_model_plot_window(\n",
    "    \"config_1\",\n",
    "    \"model_2024-12-01_12-28-50_epoch_73_mse_0.011338950517321271.pth\",\n",
    "    \"BTC_USD Bitfinex Historical Data_010318_281124_processed.csv\"\n",
    ")"
   ]
  },
  {
   "cell_type": "code",
   "execution_count": null,
   "id": "ca40be89-ba41-4d98-9d97-756d14276434",
   "metadata": {},
   "outputs": [],
   "source": [
    "test_model_plot_window(\n",
    "    \"config_2\",\n",
    "    \"model_2024-12-01_12-54-23_epoch_64_mse_0.010542428170863007.pth\",\n",
    "    \"BTC_USD Bitfinex Historical Data_010318_281124_processed.csv\"\n",
    ")"
   ]
  },
  {
   "cell_type": "code",
   "execution_count": null,
   "id": "0c84ad42-5891-4efa-9678-50a101c05e20",
   "metadata": {},
   "outputs": [],
   "source": []
  }
 ],
 "metadata": {
  "kernelspec": {
   "display_name": "Python 3 (ipykernel)",
   "language": "python",
   "name": "python3"
  },
  "language_info": {
   "codemirror_mode": {
    "name": "ipython",
    "version": 3
   },
   "file_extension": ".py",
   "mimetype": "text/x-python",
   "name": "python",
   "nbconvert_exporter": "python",
   "pygments_lexer": "ipython3",
   "version": "3.12.4"
  }
 },
 "nbformat": 4,
 "nbformat_minor": 5
}
